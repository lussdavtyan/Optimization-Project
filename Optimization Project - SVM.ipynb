{
 "cells": [
  {
   "cell_type": "code",
   "execution_count": 53,
   "metadata": {},
   "outputs": [],
   "source": [
    "import autograd.numpy as np\n",
    "from autograd import grad\n",
    "import matplotlib.pyplot as plt\n",
    "from mlxtend.plotting.decision_regions import plot_decision_regions\n",
    "from sklearn.svm import SVC\n",
    "from sklearn.datasets import make_classification\n",
    "from scipy.optimize import minimize_scalar"
   ]
  },
  {
   "cell_type": "code",
   "execution_count": 54,
   "metadata": {},
   "outputs": [],
   "source": [
    "def constraint(mu, y):\n",
    "    return np.mean(mu * y)"
   ]
  },
  {
   "cell_type": "code",
   "execution_count": 55,
   "metadata": {},
   "outputs": [],
   "source": [
    "def dual(mu, X, y):\n",
    "    N = len(mu)\n",
    "    s = np.sum(mu[:, None] * y[:, None] * X, axis=0)\n",
    "    return -(np.sum(mu) - 0.5 * (np.sum(s * s))) / N"
   ]
  },
  {
   "cell_type": "code",
   "execution_count": 56,
   "metadata": {},
   "outputs": [],
   "source": [
    "def projection(y):\n",
    "    return np.identity(len(y)) - y.T * (1 / (y @ y.T)) * y"
   ]
  },
  {
   "cell_type": "code",
   "execution_count": 57,
   "metadata": {},
   "outputs": [],
   "source": [
    "class SVM:\n",
    "    def __init__(self, lr=0.1, n=10000):\n",
    "        self._n_iter = n\n",
    "        self._lr = lr\n",
    "        self._weights = None\n",
    "        self._intercept = None\n",
    "\n",
    "    def fit(self, X, y):\n",
    "        y = np.array([-1, 1])[y]\n",
    "        mu = np.zeros(len(y))\n",
    "\n",
    "        f = lambda a: dual(mu + a * projection(y) @ grad(dual)(mu, X, y), X, y)\n",
    "        a0 = minimize_scalar(f, bounds=(0, 200))\n",
    "\n",
    "        grad_f = grad(f)\n",
    "\n",
    "        for i in range(self._n_iter):\n",
    "            grad_f_at_mu = grad_f(mu)\n",
    "            mu_next = mu + self._lr * a0.x * projection(y) @ grad_f_at_mu\n",
    "\n",
    "            mu = np.where(mu_next >= 0, mu_next, mu)\n",
    "\n",
    "        self._weights = np.sum(mu[:, None] * y[:, None] * X, axis=0)\n",
    "        self._intercept = - 1 - np.max(np.matmul(X, self._weights)[y == -1])\n",
    "\n",
    "    def predict(self, X):\n",
    "        return ((X @ self._weights + self._intercept) > 0) * 1"
   ]
  },
  {
   "cell_type": "code",
   "execution_count": 82,
   "metadata": {},
   "outputs": [
    {
     "data": {
      "text/plain": [
       "<matplotlib.collections.PathCollection at 0x25ce938b5e0>"
      ]
     },
     "execution_count": 82,
     "metadata": {},
     "output_type": "execute_result"
    },
    {
     "data": {
      "image/png": "[encoded data removed]",
      "text/plain": [
       "<Figure size 432x288 with 1 Axes>"
      ]
     },
     "metadata": {
      "needs_background": "light"
     },
     "output_type": "display_data"
    }
   ],
   "source": [
    "X, y = make_classification(class_sep=3, scale=4, n_classes=2, n_clusters_per_class=1, n_features=2,\n",
    "                           n_informative=2, n_samples=20, n_redundant=0, random_state=3)\n",
    "plt.scatter(X[:, 0], X[:, 1], c=y)"
   ]
  },
  {
   "cell_type": "code",
   "execution_count": 83,
   "metadata": {},
   "outputs": [
    {
     "name": "stdout",
     "output_type": "stream",
     "text": [
      "w:  [-0.1168152  -0.01767305]\n",
      "b:  0.14335702034898534\n"
     ]
    },
    {
     "data": {
      "image/png": "[encoded data removed]",
      "text/plain": [
       "<Figure size 432x288 with 1 Axes>"
      ]
     },
     "metadata": {
      "needs_background": "light"
     },
     "output_type": "display_data"
    }
   ],
   "source": [
    "our_svm = SVM(lr=0.07, n=1000)\n",
    "our_svm.fit(X, y)\n",
    "plot_decision_regions(X, y, our_svm)\n",
    "print(\"w: \", our_svm._weights)\n",
    "print(\"b: \", our_svm._intercept)\n",
    "pred = our_svm.predict(X)\n",
    "plt.show()"
   ]
  },
  {
   "cell_type": "code",
   "execution_count": 84,
   "metadata": {},
   "outputs": [
    {
     "name": "stdout",
     "output_type": "stream",
     "text": [
      "w:  [[-0.11656618 -0.0214245 ]]\n",
      "b:  [-0.19602326]\n"
     ]
    },
    {
     "data": {
      "image/png": "[encoded data removed]",
      "text/plain": [
       "<Figure size 432x288 with 1 Axes>"
      ]
     },
     "metadata": {
      "needs_background": "light"
     },
     "output_type": "display_data"
    }
   ],
   "source": [
    "sklearn_svm = SVC(kernel=\"linear\", max_iter=1000)\n",
    "sklearn_svm.fit(X, y)\n",
    "plot_decision_regions(X, y, sklearn_svm)\n",
    "print(\"w: \", sklearn_svm._get_coef())\n",
    "print(\"b: \", sklearn_svm._intercept_)\n",
    "pred = sklearn_svm.predict(X)\n",
    "plt.show()"
   ]
  },
  {
   "cell_type": "code",
   "execution_count": null,
   "metadata": {},
   "outputs": [],
   "source": []
  }
 ],
 "metadata": {
  "kernelspec": {
   "display_name": "Python 3",
   "language": "python",
   "name": "python3"
  },
  "language_info": {
   "codemirror_mode": {
    "name": "ipython",
    "version": 3
   },
   "file_extension": ".py",
   "mimetype": "text/x-python",
   "name": "python",
   "nbconvert_exporter": "python",
   "pygments_lexer": "ipython3",
   "version": "3.8.3"
  }
 },
 "nbformat": 4,
 "nbformat_minor": 4
}
