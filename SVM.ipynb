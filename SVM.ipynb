{
 "cells": [
  {
   "cell_type": "code",
   "execution_count": 1,
   "metadata": {
    "id": "1tv_FWYNILsb"
   },
   "outputs": [],
   "source": [
    "import autograd.numpy as np\n",
    "from autograd import grad\n",
    "import matplotlib.pyplot as plt\n",
    "from mlxtend.plotting.decision_regions import plot_decision_regions\n",
    "from sklearn.svm import SVC \n",
    "from sklearn.datasets import make_classification"
   ]
  },
  {
   "cell_type": "code",
   "execution_count": 2,
   "metadata": {
    "id": "xdM2XvTr_zfw"
   },
   "outputs": [],
   "source": [
    "def constraint(mu, y):\n",
    "    return np.sum(mu * y)"
   ]
  },
  {
   "cell_type": "code",
   "execution_count": 3,
   "metadata": {
    "id": "en9RN5-6_zfx"
   },
   "outputs": [],
   "source": [
    "def dual(mu, X, y):\n",
    "    s = np.sum(mu[:, None] * y[:, None] * X, axis=0)\n",
    "    return (np.sum(mu) - 0.5 * (np.sum(s * s)))"
   ]
  },
  {
   "cell_type": "code",
   "execution_count": 4,
   "metadata": {
    "id": "QfUfXb33IOXj"
   },
   "outputs": [],
   "source": [
    "class SVM:\n",
    "    def __init__(self, lr=0.1, n=10000):\n",
    "        self._n_iter = n\n",
    "        self._lr = lr\n",
    "        self._weights = None\n",
    "        self._intercept = None\n",
    "\n",
    "    def fit(self, X, y):\n",
    "        y = np.array([-1, 1])[y]\n",
    "\n",
    "        mu = np.zeros(len(y))\n",
    "\n",
    "        grad_dual = grad(dual)\n",
    "        grad_c = grad(constraint)\n",
    "        \n",
    "        epsilon = 0.000001\n",
    "        for i in range(self._n_iter):\n",
    "            grad_dual_at_mu_X_y = grad_dual(mu, X, y)\n",
    "            grad_c_at_mu_y = grad_c(mu, y)\n",
    "            normalized_grad_c_at_mu_y = grad_c_at_mu_y / (np.linalg.norm(grad_c_at_mu_y) + epsilon)\n",
    "            \n",
    "            d = grad_dual_at_mu_X_y - (np.matmul(grad_dual_at_mu_X_y, normalized_grad_c_at_mu_y)) * normalized_grad_c_at_mu_y\n",
    "            mu_next = mu + self._lr * d\n",
    "\n",
    "            for i in range(len(mu)):\n",
    "                if mu_next[i] > 0:\n",
    "                    mu[i] = mu_next[i]           \n",
    "\n",
    "        self._weights = np.sum(mu[:, None] * y[:, None] * X, axis=0)\n",
    "        self._intercept = 1 - np.min(np.matmul(X, self._weights)[y == 1])\n",
    "\n",
    "    def predict(self, X):\n",
    "        return (np.matmul(X, self._weights) + self._intercept) > 0\n"
   ]
  },
  {
   "cell_type": "code",
   "execution_count": 5,
   "metadata": {},
   "outputs": [
    {
     "data": {
      "image/png": "[encoded data removed]",
      "text/plain": [
       "<Figure size 432x288 with 1 Axes>"
      ]
     },
     "metadata": {
      "needs_background": "light"
     },
     "output_type": "display_data"
    }
   ],
   "source": [
    "X, y = make_classification(class_sep=3, scale = 4, n_classes=2, n_clusters_per_class=1, n_features=2, \n",
    "                           n_informative=2, n_samples=20, n_redundant = 0, random_state = 7)\n",
    "plt.scatter(X[:, 0], X[:, 1], c=y);"
   ]
  },
  {
   "cell_type": "code",
   "execution_count": 6,
   "metadata": {
    "colab": {
     "base_uri": "https://localhost:8080/",
     "height": 386,
     "referenced_widgets": [
      "32ba3c7eeb474170abacc547e89e599d",
      "7ddafbc8f60148e2bd11195fd7ec761f",
      "508e864cf9134836862c954f9d1b171c",
      "a0f723887e3c4eacb3e546cb8c177de1",
      "e7e27083ba7749068159f276470c7331",
      "5e9fe012b06f45adad119152f5885eaf",
      "ac7d491e6b804861bfc02e73531fb22f",
      "f744a0c32f1f408fa02ad9da7a3c5a7a"
     ]
    },
    "executionInfo": {
     "elapsed": 4883,
     "status": "ok",
     "timestamp": 1616266629962,
     "user": {
      "displayName": "Daniil Hayrapetyan",
      "photoUrl": "",
      "userId": "08458629657434296575"
     },
     "user_tz": -240
    },
    "id": "oL6SddKqQ-RN",
    "outputId": "ca794c74-4667-42bd-9817-5418c8809f3b"
   },
   "outputs": [
    {
     "name": "stdout",
     "output_type": "stream",
     "text": [
      "w:  [-0.06382921  0.04415503]\n",
      "b:  -0.08123887629041948\n"
     ]
    },
    {
     "data": {
      "image/png": "[encoded data removed]",
      "text/plain": [
       "<Figure size 432x288 with 1 Axes>"
      ]
     },
     "metadata": {
      "needs_background": "light"
     },
     "output_type": "display_data"
    }
   ],
   "source": [
    "our_svm = SVM(lr=0.0001, n=1000)\n",
    "our_svm.fit(X, y)\n",
    "plot_decision_regions(X, y, our_svm)\n",
    "print(\"w: \", our_svm._weights) \n",
    "print(\"b: \", our_svm._intercept)"
   ]
  },
  {
   "cell_type": "code",
   "execution_count": 7,
   "metadata": {
    "colab": {
     "base_uri": "https://localhost:8080/",
     "height": 337
    },
    "executionInfo": {
     "elapsed": 4878,
     "status": "ok",
     "timestamp": 1616266629964,
     "user": {
      "displayName": "Daniil Hayrapetyan",
      "photoUrl": "",
      "userId": "08458629657434296575"
     },
     "user_tz": -240
    },
    "id": "_JSPuy3-RBnO",
    "outputId": "fd0564d9-0c7a-487c-ff03-afc41579b3f2"
   },
   "outputs": [
    {
     "name": "stdout",
     "output_type": "stream",
     "text": [
      "w:  [[-0.05342079  0.04728   ]]\n",
      "b:  [0.01578686]\n"
     ]
    },
    {
     "data": {
      "image/png": "[encoded data removed]",
      "text/plain": [
       "<Figure size 432x288 with 1 Axes>"
      ]
     },
     "metadata": {
      "needs_background": "light"
     },
     "output_type": "display_data"
    }
   ],
   "source": [
    "sklearn_svm = SVC(kernel=\"linear\", max_iter=1000)\n",
    "sklearn_svm.fit(X, y)\n",
    "plot_decision_regions(X, y, sklearn_svm)\n",
    "print(\"w: \", sklearn_svm._get_coef())\n",
    "print(\"b: \", sklearn_svm._intercept_)"
   ]
  }
 ],
 "metadata": {
  "colab": {
   "collapsed_sections": [],
   "name": "7. Support Vector Machine.ipynb",
   "provenance": []
  },
  "kernelspec": {
   "display_name": "Python 3",
   "language": "python",
   "name": "python3"
  },
  "language_info": {
   "codemirror_mode": {
    "name": "ipython",
    "version": 3
   },
   "file_extension": ".py",
   "mimetype": "text/x-python",
   "name": "python",
   "nbconvert_exporter": "python",
   "pygments_lexer": "ipython3",
   "version": "3.8.3"
  },
  "widgets": {
   "application/vnd.jupyter.widget-state+json": {
    "32ba3c7eeb474170abacc547e89e599d": {
     "model_module": "@jupyter-widgets/controls",
     "model_name": "HBoxModel",
     "state": {
      "_dom_classes": [],
      "_model_module": "@jupyter-widgets/controls",
      "_model_module_version": "1.5.0",
      "_model_name": "HBoxModel",
      "_view_count": null,
      "_view_module": "@jupyter-widgets/controls",
      "_view_module_version": "1.5.0",
      "_view_name": "HBoxView",
      "box_style": "",
      "children": [
       "IPY_MODEL_508e864cf9134836862c954f9d1b171c",
       "IPY_MODEL_a0f723887e3c4eacb3e546cb8c177de1"
      ],
      "layout": "IPY_MODEL_7ddafbc8f60148e2bd11195fd7ec761f"
     }
    },
    "508e864cf9134836862c954f9d1b171c": {
     "model_module": "@jupyter-widgets/controls",
     "model_name": "FloatProgressModel",
     "state": {
      "_dom_classes": [],
      "_model_module": "@jupyter-widgets/controls",
      "_model_module_version": "1.5.0",
      "_model_name": "FloatProgressModel",
      "_view_count": null,
      "_view_module": "@jupyter-widgets/controls",
      "_view_module_version": "1.5.0",
      "_view_name": "ProgressView",
      "bar_style": "success",
      "description": "dual_score = 0.00, constraint = -0.00,: 100%",
      "description_tooltip": null,
      "layout": "IPY_MODEL_5e9fe012b06f45adad119152f5885eaf",
      "max": 1000,
      "min": 0,
      "orientation": "horizontal",
      "style": "IPY_MODEL_e7e27083ba7749068159f276470c7331",
      "value": 1000
     }
    },
    "5e9fe012b06f45adad119152f5885eaf": {
     "model_module": "@jupyter-widgets/base",
     "model_name": "LayoutModel",
     "state": {
      "_model_module": "@jupyter-widgets/base",
      "_model_module_version": "1.2.0",
      "_model_name": "LayoutModel",
      "_view_count": null,
      "_view_module": "@jupyter-widgets/base",
      "_view_module_version": "1.2.0",
      "_view_name": "LayoutView",
      "align_content": null,
      "align_items": null,
      "align_self": null,
      "border": null,
      "bottom": null,
      "display": null,
      "flex": null,
      "flex_flow": null,
      "grid_area": null,
      "grid_auto_columns": null,
      "grid_auto_flow": null,
      "grid_auto_rows": null,
      "grid_column": null,
      "grid_gap": null,
      "grid_row": null,
      "grid_template_areas": null,
      "grid_template_columns": null,
      "grid_template_rows": null,
      "height": null,
      "justify_content": null,
      "justify_items": null,
      "left": null,
      "margin": null,
      "max_height": null,
      "max_width": null,
      "min_height": null,
      "min_width": null,
      "object_fit": null,
      "object_position": null,
      "order": null,
      "overflow": null,
      "overflow_x": null,
      "overflow_y": null,
      "padding": null,
      "right": null,
      "top": null,
      "visibility": null,
      "width": null
     }
    },
    "7ddafbc8f60148e2bd11195fd7ec761f": {
     "model_module": "@jupyter-widgets/base",
     "model_name": "LayoutModel",
     "state": {
      "_model_module": "@jupyter-widgets/base",
      "_model_module_version": "1.2.0",
      "_model_name": "LayoutModel",
      "_view_count": null,
      "_view_module": "@jupyter-widgets/base",
      "_view_module_version": "1.2.0",
      "_view_name": "LayoutView",
      "align_content": null,
      "align_items": null,
      "align_self": null,
      "border": null,
      "bottom": null,
      "display": null,
      "flex": null,
      "flex_flow": null,
      "grid_area": null,
      "grid_auto_columns": null,
      "grid_auto_flow": null,
      "grid_auto_rows": null,
      "grid_column": null,
      "grid_gap": null,
      "grid_row": null,
      "grid_template_areas": null,
      "grid_template_columns": null,
      "grid_template_rows": null,
      "height": null,
      "justify_content": null,
      "justify_items": null,
      "left": null,
      "margin": null,
      "max_height": null,
      "max_width": null,
      "min_height": null,
      "min_width": null,
      "object_fit": null,
      "object_position": null,
      "order": null,
      "overflow": null,
      "overflow_x": null,
      "overflow_y": null,
      "padding": null,
      "right": null,
      "top": null,
      "visibility": null,
      "width": null
     }
    },
    "a0f723887e3c4eacb3e546cb8c177de1": {
     "model_module": "@jupyter-widgets/controls",
     "model_name": "HTMLModel",
     "state": {
      "_dom_classes": [],
      "_model_module": "@jupyter-widgets/controls",
      "_model_module_version": "1.5.0",
      "_model_name": "HTMLModel",
      "_view_count": null,
      "_view_module": "@jupyter-widgets/controls",
      "_view_module_version": "1.5.0",
      "_view_name": "HTMLView",
      "description": "",
      "description_tooltip": null,
      "layout": "IPY_MODEL_f744a0c32f1f408fa02ad9da7a3c5a7a",
      "placeholder": "​",
      "style": "IPY_MODEL_ac7d491e6b804861bfc02e73531fb22f",
      "value": " 1000/1000 [00:01&lt;00:00, 601.75it/s]"
     }
    },
    "ac7d491e6b804861bfc02e73531fb22f": {
     "model_module": "@jupyter-widgets/controls",
     "model_name": "DescriptionStyleModel",
     "state": {
      "_model_module": "@jupyter-widgets/controls",
      "_model_module_version": "1.5.0",
      "_model_name": "DescriptionStyleModel",
      "_view_count": null,
      "_view_module": "@jupyter-widgets/base",
      "_view_module_version": "1.2.0",
      "_view_name": "StyleView",
      "description_width": ""
     }
    },
    "e7e27083ba7749068159f276470c7331": {
     "model_module": "@jupyter-widgets/controls",
     "model_name": "ProgressStyleModel",
     "state": {
      "_model_module": "@jupyter-widgets/controls",
      "_model_module_version": "1.5.0",
      "_model_name": "ProgressStyleModel",
      "_view_count": null,
      "_view_module": "@jupyter-widgets/base",
      "_view_module_version": "1.2.0",
      "_view_name": "StyleView",
      "bar_color": null,
      "description_width": "initial"
     }
    },
    "f744a0c32f1f408fa02ad9da7a3c5a7a": {
     "model_module": "@jupyter-widgets/base",
     "model_name": "LayoutModel",
     "state": {
      "_model_module": "@jupyter-widgets/base",
      "_model_module_version": "1.2.0",
      "_model_name": "LayoutModel",
      "_view_count": null,
      "_view_module": "@jupyter-widgets/base",
      "_view_module_version": "1.2.0",
      "_view_name": "LayoutView",
      "align_content": null,
      "align_items": null,
      "align_self": null,
      "border": null,
      "bottom": null,
      "display": null,
      "flex": null,
      "flex_flow": null,
      "grid_area": null,
      "grid_auto_columns": null,
      "grid_auto_flow": null,
      "grid_auto_rows": null,
      "grid_column": null,
      "grid_gap": null,
      "grid_row": null,
      "grid_template_areas": null,
      "grid_template_columns": null,
      "grid_template_rows": null,
      "height": null,
      "justify_content": null,
      "justify_items": null,
      "left": null,
      "margin": null,
      "max_height": null,
      "max_width": null,
      "min_height": null,
      "min_width": null,
      "object_fit": null,
      "object_position": null,
      "order": null,
      "overflow": null,
      "overflow_x": null,
      "overflow_y": null,
      "padding": null,
      "right": null,
      "top": null,
      "visibility": null,
      "width": null
     }
    }
   }
  }
 },
 "nbformat": 4,
 "nbformat_minor": 1
}
